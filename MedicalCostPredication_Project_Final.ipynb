{
 "cells": [
  {
   "cell_type": "code",
   "execution_count": 1,
   "id": "66042cca",
   "metadata": {},
   "outputs": [],
   "source": [
    "import numpy as np\n",
    "import pandas as pd\n",
    "import matplotlib.pyplot as plt\n",
    "import seaborn as sns\n",
    "from sklearn.preprocessing import LabelEncoder\n",
    "from sklearn.model_selection import train_test_split\n",
    "from sklearn.preprocessing import MinMaxScaler\n",
    "from sklearn.linear_model import LinearRegression\n",
    "from sklearn.metrics import mean_squared_error,mean_absolute_error\n",
    "\n",
    " "
   ]
  },
  {
   "cell_type": "code",
   "execution_count": 2,
   "id": "b4e8a4cb",
   "metadata": {},
   "outputs": [],
   "source": [
    "data = pd.read_csv(\"insurance.csv\")"
   ]
  },
  {
   "cell_type": "code",
   "execution_count": 3,
   "id": "a6764423",
   "metadata": {},
   "outputs": [
    {
     "data": {
      "text/html": [
       "<div>\n",
       "<style scoped>\n",
       "    .dataframe tbody tr th:only-of-type {\n",
       "        vertical-align: middle;\n",
       "    }\n",
       "\n",
       "    .dataframe tbody tr th {\n",
       "        vertical-align: top;\n",
       "    }\n",
       "\n",
       "    .dataframe thead th {\n",
       "        text-align: right;\n",
       "    }\n",
       "</style>\n",
       "<table border=\"1\" class=\"dataframe\">\n",
       "  <thead>\n",
       "    <tr style=\"text-align: right;\">\n",
       "      <th></th>\n",
       "      <th>age</th>\n",
       "      <th>sex</th>\n",
       "      <th>bmi</th>\n",
       "      <th>children</th>\n",
       "      <th>smoker</th>\n",
       "      <th>region</th>\n",
       "      <th>charges</th>\n",
       "    </tr>\n",
       "  </thead>\n",
       "  <tbody>\n",
       "    <tr>\n",
       "      <th>0</th>\n",
       "      <td>19</td>\n",
       "      <td>female</td>\n",
       "      <td>27.900</td>\n",
       "      <td>0</td>\n",
       "      <td>yes</td>\n",
       "      <td>southwest</td>\n",
       "      <td>16884.92400</td>\n",
       "    </tr>\n",
       "    <tr>\n",
       "      <th>1</th>\n",
       "      <td>18</td>\n",
       "      <td>male</td>\n",
       "      <td>33.770</td>\n",
       "      <td>1</td>\n",
       "      <td>no</td>\n",
       "      <td>southeast</td>\n",
       "      <td>1725.55230</td>\n",
       "    </tr>\n",
       "    <tr>\n",
       "      <th>2</th>\n",
       "      <td>28</td>\n",
       "      <td>male</td>\n",
       "      <td>33.000</td>\n",
       "      <td>3</td>\n",
       "      <td>no</td>\n",
       "      <td>southeast</td>\n",
       "      <td>4449.46200</td>\n",
       "    </tr>\n",
       "    <tr>\n",
       "      <th>3</th>\n",
       "      <td>33</td>\n",
       "      <td>male</td>\n",
       "      <td>22.705</td>\n",
       "      <td>0</td>\n",
       "      <td>no</td>\n",
       "      <td>northwest</td>\n",
       "      <td>21984.47061</td>\n",
       "    </tr>\n",
       "    <tr>\n",
       "      <th>4</th>\n",
       "      <td>32</td>\n",
       "      <td>male</td>\n",
       "      <td>28.880</td>\n",
       "      <td>0</td>\n",
       "      <td>no</td>\n",
       "      <td>northwest</td>\n",
       "      <td>3866.85520</td>\n",
       "    </tr>\n",
       "    <tr>\n",
       "      <th>...</th>\n",
       "      <td>...</td>\n",
       "      <td>...</td>\n",
       "      <td>...</td>\n",
       "      <td>...</td>\n",
       "      <td>...</td>\n",
       "      <td>...</td>\n",
       "      <td>...</td>\n",
       "    </tr>\n",
       "    <tr>\n",
       "      <th>1333</th>\n",
       "      <td>50</td>\n",
       "      <td>male</td>\n",
       "      <td>30.970</td>\n",
       "      <td>3</td>\n",
       "      <td>no</td>\n",
       "      <td>northwest</td>\n",
       "      <td>10600.54830</td>\n",
       "    </tr>\n",
       "    <tr>\n",
       "      <th>1334</th>\n",
       "      <td>18</td>\n",
       "      <td>female</td>\n",
       "      <td>31.920</td>\n",
       "      <td>0</td>\n",
       "      <td>no</td>\n",
       "      <td>northeast</td>\n",
       "      <td>2205.98080</td>\n",
       "    </tr>\n",
       "    <tr>\n",
       "      <th>1335</th>\n",
       "      <td>18</td>\n",
       "      <td>female</td>\n",
       "      <td>36.850</td>\n",
       "      <td>0</td>\n",
       "      <td>no</td>\n",
       "      <td>southeast</td>\n",
       "      <td>1629.83350</td>\n",
       "    </tr>\n",
       "    <tr>\n",
       "      <th>1336</th>\n",
       "      <td>21</td>\n",
       "      <td>female</td>\n",
       "      <td>25.800</td>\n",
       "      <td>0</td>\n",
       "      <td>no</td>\n",
       "      <td>southwest</td>\n",
       "      <td>2007.94500</td>\n",
       "    </tr>\n",
       "    <tr>\n",
       "      <th>1337</th>\n",
       "      <td>61</td>\n",
       "      <td>female</td>\n",
       "      <td>29.070</td>\n",
       "      <td>0</td>\n",
       "      <td>yes</td>\n",
       "      <td>northwest</td>\n",
       "      <td>29141.36030</td>\n",
       "    </tr>\n",
       "  </tbody>\n",
       "</table>\n",
       "<p>1338 rows × 7 columns</p>\n",
       "</div>"
      ],
      "text/plain": [
       "      age     sex     bmi  children smoker     region      charges\n",
       "0      19  female  27.900         0    yes  southwest  16884.92400\n",
       "1      18    male  33.770         1     no  southeast   1725.55230\n",
       "2      28    male  33.000         3     no  southeast   4449.46200\n",
       "3      33    male  22.705         0     no  northwest  21984.47061\n",
       "4      32    male  28.880         0     no  northwest   3866.85520\n",
       "...   ...     ...     ...       ...    ...        ...          ...\n",
       "1333   50    male  30.970         3     no  northwest  10600.54830\n",
       "1334   18  female  31.920         0     no  northeast   2205.98080\n",
       "1335   18  female  36.850         0     no  southeast   1629.83350\n",
       "1336   21  female  25.800         0     no  southwest   2007.94500\n",
       "1337   61  female  29.070         0    yes  northwest  29141.36030\n",
       "\n",
       "[1338 rows x 7 columns]"
      ]
     },
     "execution_count": 3,
     "metadata": {},
     "output_type": "execute_result"
    }
   ],
   "source": [
    "data"
   ]
  },
  {
   "cell_type": "code",
   "execution_count": 4,
   "id": "d889a1d8",
   "metadata": {},
   "outputs": [
    {
     "name": "stdout",
     "output_type": "stream",
     "text": [
      "<class 'pandas.core.frame.DataFrame'>\n",
      "RangeIndex: 1338 entries, 0 to 1337\n",
      "Data columns (total 7 columns):\n",
      " #   Column    Non-Null Count  Dtype  \n",
      "---  ------    --------------  -----  \n",
      " 0   age       1338 non-null   int64  \n",
      " 1   sex       1338 non-null   object \n",
      " 2   bmi       1338 non-null   float64\n",
      " 3   children  1338 non-null   int64  \n",
      " 4   smoker    1338 non-null   object \n",
      " 5   region    1338 non-null   object \n",
      " 6   charges   1338 non-null   float64\n",
      "dtypes: float64(2), int64(2), object(3)\n",
      "memory usage: 73.3+ KB\n"
     ]
    }
   ],
   "source": [
    "data.info()"
   ]
  },
  {
   "cell_type": "code",
   "execution_count": null,
   "id": "45a564ba",
   "metadata": {},
   "outputs": [],
   "source": []
  },
  {
   "cell_type": "code",
   "execution_count": 5,
   "id": "ff6f9eb4",
   "metadata": {},
   "outputs": [
    {
     "data": {
      "text/html": [
       "<div>\n",
       "<style scoped>\n",
       "    .dataframe tbody tr th:only-of-type {\n",
       "        vertical-align: middle;\n",
       "    }\n",
       "\n",
       "    .dataframe tbody tr th {\n",
       "        vertical-align: top;\n",
       "    }\n",
       "\n",
       "    .dataframe thead th {\n",
       "        text-align: right;\n",
       "    }\n",
       "</style>\n",
       "<table border=\"1\" class=\"dataframe\">\n",
       "  <thead>\n",
       "    <tr style=\"text-align: right;\">\n",
       "      <th></th>\n",
       "      <th>age</th>\n",
       "      <th>bmi</th>\n",
       "      <th>children</th>\n",
       "      <th>charges</th>\n",
       "    </tr>\n",
       "  </thead>\n",
       "  <tbody>\n",
       "    <tr>\n",
       "      <th>count</th>\n",
       "      <td>1338.000000</td>\n",
       "      <td>1338.000000</td>\n",
       "      <td>1338.000000</td>\n",
       "      <td>1338.000000</td>\n",
       "    </tr>\n",
       "    <tr>\n",
       "      <th>mean</th>\n",
       "      <td>39.207025</td>\n",
       "      <td>30.663397</td>\n",
       "      <td>1.094918</td>\n",
       "      <td>13270.422265</td>\n",
       "    </tr>\n",
       "    <tr>\n",
       "      <th>std</th>\n",
       "      <td>14.049960</td>\n",
       "      <td>6.098187</td>\n",
       "      <td>1.205493</td>\n",
       "      <td>12110.011237</td>\n",
       "    </tr>\n",
       "    <tr>\n",
       "      <th>min</th>\n",
       "      <td>18.000000</td>\n",
       "      <td>15.960000</td>\n",
       "      <td>0.000000</td>\n",
       "      <td>1121.873900</td>\n",
       "    </tr>\n",
       "    <tr>\n",
       "      <th>25%</th>\n",
       "      <td>27.000000</td>\n",
       "      <td>26.296250</td>\n",
       "      <td>0.000000</td>\n",
       "      <td>4740.287150</td>\n",
       "    </tr>\n",
       "    <tr>\n",
       "      <th>50%</th>\n",
       "      <td>39.000000</td>\n",
       "      <td>30.400000</td>\n",
       "      <td>1.000000</td>\n",
       "      <td>9382.033000</td>\n",
       "    </tr>\n",
       "    <tr>\n",
       "      <th>75%</th>\n",
       "      <td>51.000000</td>\n",
       "      <td>34.693750</td>\n",
       "      <td>2.000000</td>\n",
       "      <td>16639.912515</td>\n",
       "    </tr>\n",
       "    <tr>\n",
       "      <th>max</th>\n",
       "      <td>64.000000</td>\n",
       "      <td>53.130000</td>\n",
       "      <td>5.000000</td>\n",
       "      <td>63770.428010</td>\n",
       "    </tr>\n",
       "  </tbody>\n",
       "</table>\n",
       "</div>"
      ],
      "text/plain": [
       "               age          bmi     children       charges\n",
       "count  1338.000000  1338.000000  1338.000000   1338.000000\n",
       "mean     39.207025    30.663397     1.094918  13270.422265\n",
       "std      14.049960     6.098187     1.205493  12110.011237\n",
       "min      18.000000    15.960000     0.000000   1121.873900\n",
       "25%      27.000000    26.296250     0.000000   4740.287150\n",
       "50%      39.000000    30.400000     1.000000   9382.033000\n",
       "75%      51.000000    34.693750     2.000000  16639.912515\n",
       "max      64.000000    53.130000     5.000000  63770.428010"
      ]
     },
     "execution_count": 5,
     "metadata": {},
     "output_type": "execute_result"
    }
   ],
   "source": [
    "data.describe()"
   ]
  },
  {
   "cell_type": "code",
   "execution_count": null,
   "id": "144ceeea",
   "metadata": {},
   "outputs": [],
   "source": []
  },
  {
   "cell_type": "code",
   "execution_count": 6,
   "id": "79485e6e",
   "metadata": {},
   "outputs": [
    {
     "data": {
      "text/plain": [
       "Index(['age', 'sex', 'bmi', 'children', 'smoker', 'region', 'charges'], dtype='object')"
      ]
     },
     "execution_count": 6,
     "metadata": {},
     "output_type": "execute_result"
    }
   ],
   "source": [
    "# the columns in the dataset\n",
    "data.columns"
   ]
  },
  {
   "cell_type": "code",
   "execution_count": null,
   "id": "9b508a0b",
   "metadata": {},
   "outputs": [],
   "source": []
  },
  {
   "cell_type": "markdown",
   "id": "8b539f29",
   "metadata": {},
   "source": [
    "# Sex"
   ]
  },
  {
   "cell_type": "code",
   "execution_count": 7,
   "id": "3f1301f4",
   "metadata": {},
   "outputs": [
    {
     "data": {
      "text/plain": [
       "male      676\n",
       "female    662\n",
       "Name: sex, dtype: int64"
      ]
     },
     "execution_count": 7,
     "metadata": {},
     "output_type": "execute_result"
    }
   ],
   "source": [
    "#to find the number of quantity in each category\n",
    "data['sex'].value_counts()"
   ]
  },
  {
   "cell_type": "code",
   "execution_count": 8,
   "id": "7dc519ac",
   "metadata": {},
   "outputs": [
    {
     "data": {
      "image/png": "[encoded data removed]",
      "text/plain": [
       "<Figure size 640x480 with 1 Axes>"
      ]
     },
     "metadata": {},
     "output_type": "display_data"
    }
   ],
   "source": [
    "#plotting a countplot\n",
    "sns.countplot(x='sex',data=data)\n",
    "plt.show()"
   ]
  },
  {
   "cell_type": "code",
   "execution_count": null,
   "id": "8241b4da",
   "metadata": {},
   "outputs": [],
   "source": []
  },
  {
   "cell_type": "markdown",
   "id": "6d51bb5d",
   "metadata": {},
   "source": [
    "# Age"
   ]
  },
  {
   "cell_type": "code",
   "execution_count": 9,
   "id": "e7cd3555",
   "metadata": {},
   "outputs": [
    {
     "data": {
      "text/plain": [
       "47"
      ]
     },
     "execution_count": 9,
     "metadata": {},
     "output_type": "execute_result"
    }
   ],
   "source": [
    "#To Check the diffrent ages present in the age column\n",
    "data['age'].nunique()"
   ]
  },
  {
   "cell_type": "code",
   "execution_count": 10,
   "id": "d596522e",
   "metadata": {},
   "outputs": [
    {
     "data": {
      "image/png": "[encoded data removed]",
      "text/plain": [
       "<Figure size 1500x1000 with 1 Axes>"
      ]
     },
     "metadata": {},
     "output_type": "display_data"
    }
   ],
   "source": [
    "#plotting countplot for the age feature\n",
    "plt.figure(figsize=(15,10))\n",
    "sns.countplot(x='age',data=data)\n",
    "plt.title('Count across Age')\n",
    "plt.show()"
   ]
  },
  {
   "cell_type": "code",
   "execution_count": null,
   "id": "e2c621ca",
   "metadata": {},
   "outputs": [],
   "source": []
  },
  {
   "cell_type": "markdown",
   "id": "5066c375",
   "metadata": {},
   "source": [
    "# BMI"
   ]
  },
  {
   "cell_type": "code",
   "execution_count": 11,
   "id": "7345e3e6",
   "metadata": {},
   "outputs": [
    {
     "data": {
      "text/plain": [
       "32.300    13\n",
       "28.310     9\n",
       "30.495     8\n",
       "30.875     8\n",
       "31.350     8\n",
       "          ..\n",
       "46.200     1\n",
       "23.800     1\n",
       "44.770     1\n",
       "32.120     1\n",
       "30.970     1\n",
       "Name: bmi, Length: 548, dtype: int64"
      ]
     },
     "execution_count": 11,
     "metadata": {},
     "output_type": "execute_result"
    }
   ],
   "source": [
    "data['bmi'].value_counts()"
   ]
  },
  {
   "cell_type": "code",
   "execution_count": 12,
   "id": "e707f5fa",
   "metadata": {},
   "outputs": [
    {
     "data": {
      "image/png": "[encoded data removed]",
      "text/plain": [
       "<Figure size 640x480 with 1 Axes>"
      ]
     },
     "metadata": {},
     "output_type": "display_data"
    }
   ],
   "source": [
    "sns.histplot(data['bmi'])\n",
    "plt.show()"
   ]
  },
  {
   "cell_type": "code",
   "execution_count": null,
   "id": "a1415468",
   "metadata": {},
   "outputs": [],
   "source": []
  },
  {
   "cell_type": "code",
   "execution_count": null,
   "id": "1308c099",
   "metadata": {},
   "outputs": [],
   "source": []
  },
  {
   "cell_type": "markdown",
   "id": "910fd358",
   "metadata": {},
   "source": [
    "# Children "
   ]
  },
  {
   "cell_type": "code",
   "execution_count": 13,
   "id": "6870a0f7",
   "metadata": {},
   "outputs": [
    {
     "data": {
      "text/plain": [
       "0    574\n",
       "1    324\n",
       "2    240\n",
       "3    157\n",
       "4     25\n",
       "5     18\n",
       "Name: children, dtype: int64"
      ]
     },
     "execution_count": 13,
     "metadata": {},
     "output_type": "execute_result"
    }
   ],
   "source": [
    "data['children'].value_counts()"
   ]
  },
  {
   "cell_type": "code",
   "execution_count": 14,
   "id": "d22af02d",
   "metadata": {},
   "outputs": [
    {
     "data": {
      "image/png": "[encoded data removed]",
      "text/plain": [
       "<Figure size 640x480 with 1 Axes>"
      ]
     },
     "metadata": {},
     "output_type": "display_data"
    }
   ],
   "source": [
    "#plotting countplot\n",
    "sns.countplot(x = 'children',data = data)\n",
    "plt.show()"
   ]
  },
  {
   "cell_type": "code",
   "execution_count": null,
   "id": "95d6f87c",
   "metadata": {},
   "outputs": [],
   "source": []
  },
  {
   "cell_type": "markdown",
   "id": "b444e495",
   "metadata": {},
   "source": [
    "# Smoker"
   ]
  },
  {
   "cell_type": "code",
   "execution_count": 15,
   "id": "aeb4e031",
   "metadata": {},
   "outputs": [
    {
     "data": {
      "text/plain": [
       "no     1064\n",
       "yes     274\n",
       "Name: smoker, dtype: int64"
      ]
     },
     "execution_count": 15,
     "metadata": {},
     "output_type": "execute_result"
    }
   ],
   "source": [
    "data['smoker'].value_counts()"
   ]
  },
  {
   "cell_type": "code",
   "execution_count": 16,
   "id": "3974d237",
   "metadata": {},
   "outputs": [
    {
     "data": {
      "image/png": "[encoded data removed]",
      "text/plain": [
       "<Figure size 640x480 with 1 Axes>"
      ]
     },
     "metadata": {},
     "output_type": "display_data"
    }
   ],
   "source": [
    "sns.countplot(x = 'smoker', data = data)\n",
    "plt.show()"
   ]
  },
  {
   "cell_type": "code",
   "execution_count": null,
   "id": "ec715049",
   "metadata": {},
   "outputs": [],
   "source": []
  },
  {
   "cell_type": "markdown",
   "id": "8c7da37d",
   "metadata": {},
   "source": [
    "# Region"
   ]
  },
  {
   "cell_type": "code",
   "execution_count": 17,
   "id": "b3dbe97b",
   "metadata": {},
   "outputs": [],
   "source": [
    "r=data['region'].value_counts()"
   ]
  },
  {
   "cell_type": "code",
   "execution_count": 18,
   "id": "6cd33a03",
   "metadata": {},
   "outputs": [
    {
     "data": {
      "text/plain": [
       "southeast    364\n",
       "southwest    325\n",
       "northwest    325\n",
       "northeast    324\n",
       "Name: region, dtype: int64"
      ]
     },
     "execution_count": 18,
     "metadata": {},
     "output_type": "execute_result"
    }
   ],
   "source": [
    "r"
   ]
  },
  {
   "cell_type": "code",
   "execution_count": 19,
   "id": "f22317b5",
   "metadata": {},
   "outputs": [
    {
     "data": {
      "image/png": "[encoded data removed]",
      "text/plain": [
       "<Figure size 900x950 with 1 Axes>"
      ]
     },
     "metadata": {},
     "output_type": "display_data"
    }
   ],
   "source": [
    "#plotting pie chart of the region feature\n",
    "plt.figure(figsize=(9,9.5))\n",
    "data['region'].value_counts().plot(kind='pie',explode=[0.2,0,0,0],legend=True,autopct='%.2f%%',shadow=True)\n",
    "plt.title('Percentage distribution of Region')\n",
    "plt.show()"
   ]
  },
  {
   "cell_type": "code",
   "execution_count": null,
   "id": "4854adaf",
   "metadata": {},
   "outputs": [],
   "source": []
  },
  {
   "cell_type": "markdown",
   "id": "6adcbed8",
   "metadata": {},
   "source": [
    "# Output"
   ]
  },
  {
   "cell_type": "code",
   "execution_count": 20,
   "id": "7de076bc",
   "metadata": {},
   "outputs": [
    {
     "data": {
      "image/png": "[encoded data removed]",
      "text/plain": [
       "<Figure size 640x480 with 1 Axes>"
      ]
     },
     "metadata": {},
     "output_type": "display_data"
    }
   ],
   "source": [
    "#plotting a distributionplot for the target variable charges\n",
    "sns.histplot(data['charges'])\n",
    "plt.show()"
   ]
  },
  {
   "cell_type": "code",
   "execution_count": 21,
   "id": "3187d886",
   "metadata": {},
   "outputs": [],
   "source": [
    "data = data.apply(LabelEncoder().fit_transform)   # convert all categorical values to numeric"
   ]
  },
  {
   "cell_type": "code",
   "execution_count": 22,
   "id": "d7ab442c",
   "metadata": {},
   "outputs": [],
   "source": [
    "X = data.iloc[:,:-1]\n",
    "Y = data.iloc[:,-1:]"
   ]
  },
  {
   "cell_type": "code",
   "execution_count": null,
   "id": "16bdbec5",
   "metadata": {},
   "outputs": [],
   "source": []
  },
  {
   "cell_type": "code",
   "execution_count": 23,
   "id": "d3ce4381",
   "metadata": {},
   "outputs": [
    {
     "data": {
      "text/html": [
       "<div>\n",
       "<style scoped>\n",
       "    .dataframe tbody tr th:only-of-type {\n",
       "        vertical-align: middle;\n",
       "    }\n",
       "\n",
       "    .dataframe tbody tr th {\n",
       "        vertical-align: top;\n",
       "    }\n",
       "\n",
       "    .dataframe thead th {\n",
       "        text-align: right;\n",
       "    }\n",
       "</style>\n",
       "<table border=\"1\" class=\"dataframe\">\n",
       "  <thead>\n",
       "    <tr style=\"text-align: right;\">\n",
       "      <th></th>\n",
       "      <th>age</th>\n",
       "      <th>sex</th>\n",
       "      <th>bmi</th>\n",
       "      <th>children</th>\n",
       "      <th>smoker</th>\n",
       "      <th>region</th>\n",
       "    </tr>\n",
       "  </thead>\n",
       "  <tbody>\n",
       "    <tr>\n",
       "      <th>0</th>\n",
       "      <td>1</td>\n",
       "      <td>0</td>\n",
       "      <td>197</td>\n",
       "      <td>0</td>\n",
       "      <td>1</td>\n",
       "      <td>3</td>\n",
       "    </tr>\n",
       "    <tr>\n",
       "      <th>1</th>\n",
       "      <td>0</td>\n",
       "      <td>1</td>\n",
       "      <td>350</td>\n",
       "      <td>1</td>\n",
       "      <td>0</td>\n",
       "      <td>2</td>\n",
       "    </tr>\n",
       "    <tr>\n",
       "      <th>2</th>\n",
       "      <td>10</td>\n",
       "      <td>1</td>\n",
       "      <td>331</td>\n",
       "      <td>3</td>\n",
       "      <td>0</td>\n",
       "      <td>2</td>\n",
       "    </tr>\n",
       "    <tr>\n",
       "      <th>3</th>\n",
       "      <td>15</td>\n",
       "      <td>1</td>\n",
       "      <td>73</td>\n",
       "      <td>0</td>\n",
       "      <td>0</td>\n",
       "      <td>1</td>\n",
       "    </tr>\n",
       "    <tr>\n",
       "      <th>4</th>\n",
       "      <td>14</td>\n",
       "      <td>1</td>\n",
       "      <td>223</td>\n",
       "      <td>0</td>\n",
       "      <td>0</td>\n",
       "      <td>1</td>\n",
       "    </tr>\n",
       "    <tr>\n",
       "      <th>...</th>\n",
       "      <td>...</td>\n",
       "      <td>...</td>\n",
       "      <td>...</td>\n",
       "      <td>...</td>\n",
       "      <td>...</td>\n",
       "      <td>...</td>\n",
       "    </tr>\n",
       "    <tr>\n",
       "      <th>1333</th>\n",
       "      <td>32</td>\n",
       "      <td>1</td>\n",
       "      <td>276</td>\n",
       "      <td>3</td>\n",
       "      <td>0</td>\n",
       "      <td>1</td>\n",
       "    </tr>\n",
       "    <tr>\n",
       "      <th>1334</th>\n",
       "      <td>0</td>\n",
       "      <td>0</td>\n",
       "      <td>302</td>\n",
       "      <td>0</td>\n",
       "      <td>0</td>\n",
       "      <td>0</td>\n",
       "    </tr>\n",
       "    <tr>\n",
       "      <th>1335</th>\n",
       "      <td>0</td>\n",
       "      <td>0</td>\n",
       "      <td>422</td>\n",
       "      <td>0</td>\n",
       "      <td>0</td>\n",
       "      <td>2</td>\n",
       "    </tr>\n",
       "    <tr>\n",
       "      <th>1336</th>\n",
       "      <td>3</td>\n",
       "      <td>0</td>\n",
       "      <td>146</td>\n",
       "      <td>0</td>\n",
       "      <td>0</td>\n",
       "      <td>3</td>\n",
       "    </tr>\n",
       "    <tr>\n",
       "      <th>1337</th>\n",
       "      <td>43</td>\n",
       "      <td>0</td>\n",
       "      <td>229</td>\n",
       "      <td>0</td>\n",
       "      <td>1</td>\n",
       "      <td>1</td>\n",
       "    </tr>\n",
       "  </tbody>\n",
       "</table>\n",
       "<p>1338 rows × 6 columns</p>\n",
       "</div>"
      ],
      "text/plain": [
       "      age  sex  bmi  children  smoker  region\n",
       "0       1    0  197         0       1       3\n",
       "1       0    1  350         1       0       2\n",
       "2      10    1  331         3       0       2\n",
       "3      15    1   73         0       0       1\n",
       "4      14    1  223         0       0       1\n",
       "...   ...  ...  ...       ...     ...     ...\n",
       "1333   32    1  276         3       0       1\n",
       "1334    0    0  302         0       0       0\n",
       "1335    0    0  422         0       0       2\n",
       "1336    3    0  146         0       0       3\n",
       "1337   43    0  229         0       1       1\n",
       "\n",
       "[1338 rows x 6 columns]"
      ]
     },
     "execution_count": 23,
     "metadata": {},
     "output_type": "execute_result"
    }
   ],
   "source": [
    "X     # add bias term in X"
   ]
  },
  {
   "cell_type": "code",
   "execution_count": 24,
   "id": "bc643486",
   "metadata": {},
   "outputs": [],
   "source": [
    "X['bias'] = np.ones(X.shape[0], dtype = 'int32')"
   ]
  },
  {
   "cell_type": "code",
   "execution_count": 25,
   "id": "e218bc58",
   "metadata": {},
   "outputs": [
    {
     "data": {
      "text/html": [
       "<div>\n",
       "<style scoped>\n",
       "    .dataframe tbody tr th:only-of-type {\n",
       "        vertical-align: middle;\n",
       "    }\n",
       "\n",
       "    .dataframe tbody tr th {\n",
       "        vertical-align: top;\n",
       "    }\n",
       "\n",
       "    .dataframe thead th {\n",
       "        text-align: right;\n",
       "    }\n",
       "</style>\n",
       "<table border=\"1\" class=\"dataframe\">\n",
       "  <thead>\n",
       "    <tr style=\"text-align: right;\">\n",
       "      <th></th>\n",
       "      <th>age</th>\n",
       "      <th>sex</th>\n",
       "      <th>bmi</th>\n",
       "      <th>children</th>\n",
       "      <th>smoker</th>\n",
       "      <th>region</th>\n",
       "      <th>bias</th>\n",
       "    </tr>\n",
       "  </thead>\n",
       "  <tbody>\n",
       "    <tr>\n",
       "      <th>0</th>\n",
       "      <td>1</td>\n",
       "      <td>0</td>\n",
       "      <td>197</td>\n",
       "      <td>0</td>\n",
       "      <td>1</td>\n",
       "      <td>3</td>\n",
       "      <td>1</td>\n",
       "    </tr>\n",
       "    <tr>\n",
       "      <th>1</th>\n",
       "      <td>0</td>\n",
       "      <td>1</td>\n",
       "      <td>350</td>\n",
       "      <td>1</td>\n",
       "      <td>0</td>\n",
       "      <td>2</td>\n",
       "      <td>1</td>\n",
       "    </tr>\n",
       "    <tr>\n",
       "      <th>2</th>\n",
       "      <td>10</td>\n",
       "      <td>1</td>\n",
       "      <td>331</td>\n",
       "      <td>3</td>\n",
       "      <td>0</td>\n",
       "      <td>2</td>\n",
       "      <td>1</td>\n",
       "    </tr>\n",
       "    <tr>\n",
       "      <th>3</th>\n",
       "      <td>15</td>\n",
       "      <td>1</td>\n",
       "      <td>73</td>\n",
       "      <td>0</td>\n",
       "      <td>0</td>\n",
       "      <td>1</td>\n",
       "      <td>1</td>\n",
       "    </tr>\n",
       "    <tr>\n",
       "      <th>4</th>\n",
       "      <td>14</td>\n",
       "      <td>1</td>\n",
       "      <td>223</td>\n",
       "      <td>0</td>\n",
       "      <td>0</td>\n",
       "      <td>1</td>\n",
       "      <td>1</td>\n",
       "    </tr>\n",
       "    <tr>\n",
       "      <th>...</th>\n",
       "      <td>...</td>\n",
       "      <td>...</td>\n",
       "      <td>...</td>\n",
       "      <td>...</td>\n",
       "      <td>...</td>\n",
       "      <td>...</td>\n",
       "      <td>...</td>\n",
       "    </tr>\n",
       "    <tr>\n",
       "      <th>1333</th>\n",
       "      <td>32</td>\n",
       "      <td>1</td>\n",
       "      <td>276</td>\n",
       "      <td>3</td>\n",
       "      <td>0</td>\n",
       "      <td>1</td>\n",
       "      <td>1</td>\n",
       "    </tr>\n",
       "    <tr>\n",
       "      <th>1334</th>\n",
       "      <td>0</td>\n",
       "      <td>0</td>\n",
       "      <td>302</td>\n",
       "      <td>0</td>\n",
       "      <td>0</td>\n",
       "      <td>0</td>\n",
       "      <td>1</td>\n",
       "    </tr>\n",
       "    <tr>\n",
       "      <th>1335</th>\n",
       "      <td>0</td>\n",
       "      <td>0</td>\n",
       "      <td>422</td>\n",
       "      <td>0</td>\n",
       "      <td>0</td>\n",
       "      <td>2</td>\n",
       "      <td>1</td>\n",
       "    </tr>\n",
       "    <tr>\n",
       "      <th>1336</th>\n",
       "      <td>3</td>\n",
       "      <td>0</td>\n",
       "      <td>146</td>\n",
       "      <td>0</td>\n",
       "      <td>0</td>\n",
       "      <td>3</td>\n",
       "      <td>1</td>\n",
       "    </tr>\n",
       "    <tr>\n",
       "      <th>1337</th>\n",
       "      <td>43</td>\n",
       "      <td>0</td>\n",
       "      <td>229</td>\n",
       "      <td>0</td>\n",
       "      <td>1</td>\n",
       "      <td>1</td>\n",
       "      <td>1</td>\n",
       "    </tr>\n",
       "  </tbody>\n",
       "</table>\n",
       "<p>1338 rows × 7 columns</p>\n",
       "</div>"
      ],
      "text/plain": [
       "      age  sex  bmi  children  smoker  region  bias\n",
       "0       1    0  197         0       1       3     1\n",
       "1       0    1  350         1       0       2     1\n",
       "2      10    1  331         3       0       2     1\n",
       "3      15    1   73         0       0       1     1\n",
       "4      14    1  223         0       0       1     1\n",
       "...   ...  ...  ...       ...     ...     ...   ...\n",
       "1333   32    1  276         3       0       1     1\n",
       "1334    0    0  302         0       0       0     1\n",
       "1335    0    0  422         0       0       2     1\n",
       "1336    3    0  146         0       0       3     1\n",
       "1337   43    0  229         0       1       1     1\n",
       "\n",
       "[1338 rows x 7 columns]"
      ]
     },
     "execution_count": 25,
     "metadata": {},
     "output_type": "execute_result"
    }
   ],
   "source": [
    "X"
   ]
  },
  {
   "cell_type": "code",
   "execution_count": 26,
   "id": "f17e902e",
   "metadata": {},
   "outputs": [
    {
     "data": {
      "text/html": [
       "<div>\n",
       "<style scoped>\n",
       "    .dataframe tbody tr th:only-of-type {\n",
       "        vertical-align: middle;\n",
       "    }\n",
       "\n",
       "    .dataframe tbody tr th {\n",
       "        vertical-align: top;\n",
       "    }\n",
       "\n",
       "    .dataframe thead th {\n",
       "        text-align: right;\n",
       "    }\n",
       "</style>\n",
       "<table border=\"1\" class=\"dataframe\">\n",
       "  <thead>\n",
       "    <tr style=\"text-align: right;\">\n",
       "      <th></th>\n",
       "      <th>charges</th>\n",
       "    </tr>\n",
       "  </thead>\n",
       "  <tbody>\n",
       "    <tr>\n",
       "      <th>0</th>\n",
       "      <td>1005</td>\n",
       "    </tr>\n",
       "    <tr>\n",
       "      <th>1</th>\n",
       "      <td>57</td>\n",
       "    </tr>\n",
       "    <tr>\n",
       "      <th>2</th>\n",
       "      <td>306</td>\n",
       "    </tr>\n",
       "    <tr>\n",
       "      <th>3</th>\n",
       "      <td>1097</td>\n",
       "    </tr>\n",
       "    <tr>\n",
       "      <th>4</th>\n",
       "      <td>254</td>\n",
       "    </tr>\n",
       "    <tr>\n",
       "      <th>...</th>\n",
       "      <td>...</td>\n",
       "    </tr>\n",
       "    <tr>\n",
       "      <th>1333</th>\n",
       "      <td>746</td>\n",
       "    </tr>\n",
       "    <tr>\n",
       "      <th>1334</th>\n",
       "      <td>118</td>\n",
       "    </tr>\n",
       "    <tr>\n",
       "      <th>1335</th>\n",
       "      <td>32</td>\n",
       "    </tr>\n",
       "    <tr>\n",
       "      <th>1336</th>\n",
       "      <td>91</td>\n",
       "    </tr>\n",
       "    <tr>\n",
       "      <th>1337</th>\n",
       "      <td>1171</td>\n",
       "    </tr>\n",
       "  </tbody>\n",
       "</table>\n",
       "<p>1338 rows × 1 columns</p>\n",
       "</div>"
      ],
      "text/plain": [
       "      charges\n",
       "0        1005\n",
       "1          57\n",
       "2         306\n",
       "3        1097\n",
       "4         254\n",
       "...       ...\n",
       "1333      746\n",
       "1334      118\n",
       "1335       32\n",
       "1336       91\n",
       "1337     1171\n",
       "\n",
       "[1338 rows x 1 columns]"
      ]
     },
     "execution_count": 26,
     "metadata": {},
     "output_type": "execute_result"
    }
   ],
   "source": [
    "Y"
   ]
  },
  {
   "cell_type": "code",
   "execution_count": null,
   "id": "622e1133",
   "metadata": {},
   "outputs": [],
   "source": []
  },
  {
   "cell_type": "code",
   "execution_count": 27,
   "id": "41062e55",
   "metadata": {},
   "outputs": [],
   "source": [
    "scalar = MinMaxScaler()        # normalization\n",
    "X = scalar.fit_transform(X)"
   ]
  },
  {
   "cell_type": "code",
   "execution_count": 28,
   "id": "3d11f167",
   "metadata": {},
   "outputs": [],
   "source": [
    "X_Train, X_Test, Y_Train, Y_Test = train_test_split(X, Y, test_size = 0.3)"
   ]
  },
  {
   "cell_type": "code",
   "execution_count": 29,
   "id": "f2a921f5",
   "metadata": {},
   "outputs": [
    {
     "data": {
      "text/plain": [
       "(936, 7)"
      ]
     },
     "execution_count": 29,
     "metadata": {},
     "output_type": "execute_result"
    }
   ],
   "source": [
    "X_Train.shape"
   ]
  },
  {
   "cell_type": "code",
   "execution_count": 30,
   "id": "b64a46b2",
   "metadata": {},
   "outputs": [
    {
     "data": {
      "text/plain": [
       "(936, 1)"
      ]
     },
     "execution_count": 30,
     "metadata": {},
     "output_type": "execute_result"
    }
   ],
   "source": [
    "Y_Train.shape"
   ]
  },
  {
   "cell_type": "code",
   "execution_count": 31,
   "id": "75118b6b",
   "metadata": {},
   "outputs": [],
   "source": [
    "def model(X,Y,LearningRate,Iterations):\n",
    "    \n",
    "    M = Y.shape[0]    # 936\n",
    "    theta = np.zeros((X.shape[1],1))      #   shape is 7 x 1\n",
    "    \n",
    "    costs = []\n",
    "    accuracies = []\n",
    "    \n",
    "    for i in range(0,Iterations):\n",
    "        \n",
    "        Y_Predicted = np.dot(X,theta)   # 936x7  7x1  = 936x1\n",
    "        \n",
    "        cost = np.sum( np.square(Y_Predicted - Y  ) ) / (2*M)     # cost function\n",
    "        costs.append(cost)\n",
    "        accuracies.append(r2_score(Y,Y_Predicted))\n",
    "        \n",
    "        dTheta = np.dot( X.T , Y_Predicted - Y ) / M\n",
    "        \n",
    "        theta = theta - LearningRate * dTheta\n",
    "        \n",
    "        if(i%(Iterations/100) == 0):\n",
    "                print(\"Cost is :\", cost)\n",
    "    \n",
    "    return theta, costs, accuracies"
   ]
  },
  {
   "cell_type": "code",
   "execution_count": 32,
   "id": "aa8caee9",
   "metadata": {},
   "outputs": [],
   "source": [
    "def predict(theta,X):\n",
    "    return np.dot(X,theta)"
   ]
  },
  {
   "cell_type": "code",
   "execution_count": 33,
   "id": "af1152b3",
   "metadata": {},
   "outputs": [],
   "source": [
    "def PrintOutput(Y,Pred):\n",
    "    \n",
    "    Y = np.array(Y)    # indexes of y are in random manner\n",
    "\n",
    "    for i in range(0,Y.shape[0]):\n",
    "    \n",
    "        print(  \"Actual price: \", Y[i] , \"Predicted price: \", Pred[i] )"
   ]
  },
  {
   "cell_type": "code",
   "execution_count": 34,
   "id": "cf6f9473",
   "metadata": {},
   "outputs": [],
   "source": [
    "learnRate = 0.0001\n",
    "iterations = 100000"
   ]
  },
  {
   "cell_type": "code",
   "execution_count": null,
   "id": "f6bc1777",
   "metadata": {},
   "outputs": [],
   "source": [
    "Thetas, Costs, Accuracies = model(X_Train,Y_Train,learnRate,iterations)"
   ]
  },
  {
   "cell_type": "code",
   "execution_count": 36,
   "id": "c39f2158",
   "metadata": {},
   "outputs": [
    {
     "data": {
      "text/plain": [
       "array([[580.70577   ],\n",
       "       [ 68.95849727],\n",
       "       [290.85483145],\n",
       "       [186.90587841],\n",
       "       [553.39805002],\n",
       "       [101.65058619],\n",
       "       [  0.        ]])"
      ]
     },
     "execution_count": 36,
     "metadata": {},
     "output_type": "execute_result"
    }
   ],
   "source": [
    "Thetas"
   ]
  },
  {
   "cell_type": "code",
   "execution_count": null,
   "id": "497bbe55",
   "metadata": {},
   "outputs": [],
   "source": []
  },
  {
   "cell_type": "code",
   "execution_count": null,
   "id": "9c01b1bd",
   "metadata": {},
   "outputs": [],
   "source": []
  },
  {
   "cell_type": "code",
   "execution_count": null,
   "id": "64b4476c",
   "metadata": {},
   "outputs": [],
   "source": []
  },
  {
   "cell_type": "code",
   "execution_count": 37,
   "id": "91b8eada",
   "metadata": {},
   "outputs": [],
   "source": [
    "Costs = np.array(Costs, dtype = 'float64')\n",
    "Costs = Costs.ravel()\n",
    "Accuracies = np.array(Accuracies, dtype = 'float64')\n",
    "Accuracies = Accuracies.ravel()"
   ]
  },
  {
   "cell_type": "code",
   "execution_count": 38,
   "id": "2dbf8783",
   "metadata": {},
   "outputs": [
    {
     "data": {
      "image/png": "[encoded data removed]",
      "text/plain": [
       "<Figure size 640x480 with 1 Axes>"
      ]
     },
     "metadata": {},
     "output_type": "display_data"
    }
   ],
   "source": [
    "plt.plot(np.arange(iterations),Costs)\n",
    "plt.title(\"Training error vs Iterations\")\n",
    "plt.xlabel(\"Iterations\")\n",
    "plt.ylabel(\"Cost\")\n",
    "plt.show()"
   ]
  },
  {
   "cell_type": "code",
   "execution_count": 39,
   "id": "5cd832c0",
   "metadata": {},
   "outputs": [
    {
     "data": {
      "image/png": "[encoded data removed]",
      "text/plain": [
       "<Figure size 640x480 with 1 Axes>"
      ]
     },
     "metadata": {},
     "output_type": "display_data"
    }
   ],
   "source": [
    "plt.plot(np.arange(iterations),Accuracies)\n",
    "plt.title(\"Training Accuracies - r2 score vs Iterations\")\n",
    "plt.xlabel(\"Accuracies\")\n",
    "plt.ylabel(\"Cost\")\n",
    "plt.show()"
   ]
  },
  {
   "cell_type": "code",
   "execution_count": null,
   "id": "6e813992",
   "metadata": {},
   "outputs": [],
   "source": []
  },
  {
   "cell_type": "code",
   "execution_count": null,
   "id": "6b3bb3c2",
   "metadata": {},
   "outputs": [],
   "source": []
  },
  {
   "cell_type": "code",
   "execution_count": 40,
   "id": "1ba636fd",
   "metadata": {},
   "outputs": [],
   "source": [
    "Predictions = predict(Thetas,X_Test)"
   ]
  },
  {
   "cell_type": "code",
   "execution_count": 41,
   "id": "e2dc22bc",
   "metadata": {},
   "outputs": [],
   "source": [
    "Predictions = Predictions.ravel()"
   ]
  },
  {
   "cell_type": "code",
   "execution_count": 42,
   "id": "c0974c72",
   "metadata": {},
   "outputs": [
    {
     "data": {
      "text/plain": [
       "array([ 233.3815392 ,  522.24095055,  655.88144233,  802.17789489,\n",
       "        819.91525274, 1079.490528  ,  719.41497843,  191.93561491,\n",
       "       1339.99106591,  373.22238957,  859.87839877,  375.88953392,\n",
       "        554.50933443,  292.15597679, 1263.82786875,  382.39464778,\n",
       "       1451.19895339, 1245.90270508,  465.69762921,  434.85127309,\n",
       "        477.01456572,  429.44697264,  726.82218823,  762.63103026,\n",
       "        646.68579243, 1177.48317902, 1181.42190413,  761.0891387 ,\n",
       "        681.3467195 ,  537.18677775,  807.1824323 ,  801.18298503,\n",
       "        199.48857903,  660.42460458,  591.18636506,  305.52315634,\n",
       "        709.19285263,  736.70999417,  709.2851231 ,  868.43387346,\n",
       "        424.6289771 ,  308.44828845,   94.09779227,  358.45819529,\n",
       "        178.12864449,  901.82955711,  653.86005024, 1462.19645386,\n",
       "        444.77152891, 1510.42227924, 1001.53396622, 1171.88037737,\n",
       "        220.98266535,  494.7631624 ,  845.55402681,  461.97062919,\n",
       "        195.87872139,  474.39180783,  331.33774543,  676.80012853,\n",
       "        692.88391169,  451.51411725,  649.23657685, 1018.52680938,\n",
       "        181.39064768,  456.85752608, 1230.78677922,  507.76772146,\n",
       "        965.4281946 ,  660.1887673 ,  528.90391918, 1459.72998183,\n",
       "        534.93441126,  625.22780097,  594.56655832,  217.97231316,\n",
       "        671.43297063,  642.39843043, 1116.42664648,  471.54879426,\n",
       "        676.49044844,  729.44130112,  713.14248938,  540.23138721,\n",
       "        388.48838919,  743.63929458,  294.03216487, 1334.11614605,\n",
       "        447.80544298,  162.41578028,  748.03288731,  614.78308451,\n",
       "        583.07303896,  811.38606315, 1047.72430683, 1111.96848806,\n",
       "       1461.41634044,  453.43452161,  200.24839545,  581.18977715,\n",
       "        477.38347689,  218.00240532, 1107.48298164,  283.19785378,\n",
       "        888.54597631,  210.43405313,  983.80715547, 1035.78861555,\n",
       "        513.14917367,  428.99502891,  684.96617877,  647.80292381,\n",
       "        696.91767602,  527.44996913,  958.64972765,  711.13689639,\n",
       "       1079.67887726,  746.51513127,  604.23683   ,  293.4118121 ,\n",
       "       1207.32118573,  576.33247427, 1044.86461791,  421.55809067,\n",
       "        700.35563478,  619.924511  ,  801.35230124,  710.43636488,\n",
       "        297.03362908,  340.13581981,  140.3760064 , 1484.06996014,\n",
       "        439.91765477,  652.78537268,  894.52899595,  264.30456146,\n",
       "        860.23770831,  993.80790849,  326.23222028,  534.33233183,\n",
       "       1073.85741792, 1056.95202014,  179.30197481,  532.1147735 ,\n",
       "         83.728478  ,  650.53809403, 1136.13314746,  207.55642491,\n",
       "        554.57951636,  277.26418374,  393.68492086,  472.97194485,\n",
       "        212.30516208,  402.05747593,  443.49632649,  597.2647184 ,\n",
       "        137.18564262,  527.21303809,  795.11389926,  246.14299432,\n",
       "        573.35619329,  282.01983078,  381.97131599,  574.91058763,\n",
       "        658.84736198, 1168.53372773,  261.30402716,  266.20542852,\n",
       "        555.36813766,  469.4314867 ,  735.49607796,  386.15135351,\n",
       "        617.00459915,  643.57631231,  560.23961705,  683.58998862,\n",
       "        603.28249143,  688.81756509,  785.26797462,  466.37620459,\n",
       "        526.90990416,  260.88451056,  612.41957834,  156.56551606,\n",
       "       1169.48278412,  153.75042987,  693.8059706 ,  600.53556351,\n",
       "        310.22891845,  562.91855055,  352.18624969,  305.56863656,\n",
       "        360.14912879,  551.11120187,  564.42358754,  210.63674277,\n",
       "        285.98556924,  987.44095512,  421.17829059,  805.65524483,\n",
       "        922.27723602,  399.64739577,  271.11623798,  668.13511216,\n",
       "        504.12774892,  901.42766075,  695.34873966,  511.81324349,\n",
       "        686.1940475 ,  763.57610127,  829.44575819,  365.63478806,\n",
       "        355.55100248,   68.95849727,  527.53101664,  377.31358534,\n",
       "        411.09450501,  863.9184684 ,  594.13434541,  511.50758165,\n",
       "       1008.75030697,  567.07083088,  319.08283438,  460.98279305,\n",
       "        595.56456973,  557.07134181,  572.6203422 ,  561.90891386,\n",
       "       1041.46754765,  771.1620587 ,  414.00512655,  580.05852166,\n",
       "        627.75971619,  668.00620338,  341.95670978,  485.01784591,\n",
       "        643.0233581 ,  710.93036011,  336.42333036,  608.6784542 ,\n",
       "        329.85606093,  306.62248953,  731.80387739,  854.38870804,\n",
       "        222.99445582,  457.76360106,  774.18800061,  277.61534914,\n",
       "        611.22830872,  580.59336637,  540.32037008,  982.40866052,\n",
       "        395.29461332,  277.37765839,  488.50715518,  249.2008504 ,\n",
       "        990.53649719,  127.83556667, 1129.92338018,  565.04310203,\n",
       "        189.90788606,  568.74018008,  919.49603526, 1258.38730325,\n",
       "        464.87110566,  299.6184847 ,  565.10182887,  337.22646222,\n",
       "        927.73897604,  600.02124794,  668.19221768,  272.16175327,\n",
       "        393.42311791,  976.93005164,  610.61991528,  663.41265197,\n",
       "        511.73671846,  357.18735837,  418.15762313,  377.8052456 ,\n",
       "        774.30727631, 1188.76314316,  937.09236293,  676.54323453,\n",
       "        713.38070025,  352.04158912,  324.67258294, 1221.24017332,\n",
       "        806.07476143,  886.33694859,  673.23027598,  793.05984104,\n",
       "        624.94207877, 1196.3962249 ,  258.50070737,  762.06450351,\n",
       "        702.19777499, 1327.13171773,  629.32497612, 1090.48455368,\n",
       "        518.15244713,  931.624977  ,  668.72556631,  675.78885463,\n",
       "       1331.62246714,  188.4787555 ,  304.28946197,  316.1493646 ,\n",
       "        716.96335102,  762.16926864,  548.33129651,  869.9462163 ,\n",
       "        947.94407763,  815.23958279,  667.41139061,  588.13106022,\n",
       "       1133.67868083,  560.10486943,  196.85388455,  196.52630437,\n",
       "        994.79631827,  569.82266774,  544.88894767,  816.53834709,\n",
       "        772.22966254,  512.61618242, 1308.95145158,  663.25855997,\n",
       "        321.23492679,  316.98110841,  405.10808809,  371.30922913,\n",
       "        322.83971031, 1242.64198917,  940.23758053,  539.45944127,\n",
       "        624.49268627,  680.43154713,  829.02241769,  723.50220202,\n",
       "        470.14001312,  828.71877951,  701.7985554 ,  490.01116036,\n",
       "        840.71336783,  846.02957849,  565.75827651,  750.44389737,\n",
       "        801.70744567,  685.73921848,  903.16697563,  352.80031178,\n",
       "        702.66875178,  600.11318436, 1002.06878044,  877.153995  ,\n",
       "        610.29064549,  587.06527065,  800.02361497,  301.24230128,\n",
       "        505.63666304,  333.34048459,  701.9183668 ,  817.01423283,\n",
       "        671.64671937,  778.80367976,  100.86322885, 1155.38124957,\n",
       "        744.93915264,  373.35637749, 1068.3240385 ,  638.73001613,\n",
       "       1144.47582664,  695.00481818,  762.34168639,  785.689656  ,\n",
       "        993.84760228,  256.64012361,  695.65475887,  935.49718103,\n",
       "       1114.24477323,  559.12789887,  299.68139998, 1352.68452662,\n",
       "        758.93990884,  354.90961572, 1393.62881577, 1104.4682627 ,\n",
       "        468.295345  ,  811.0512076 , 1182.76347963,  560.71295156,\n",
       "        134.07651988,  783.67731522,  425.65057313, 1154.29749797,\n",
       "        396.7333455 ,  119.06017034, 1033.50977914,  798.49659136,\n",
       "       1183.02325891, 1319.40054941])"
      ]
     },
     "execution_count": 42,
     "metadata": {},
     "output_type": "execute_result"
    }
   ],
   "source": [
    "Predictions"
   ]
  },
  {
   "cell_type": "code",
   "execution_count": 43,
   "id": "98785467",
   "metadata": {},
   "outputs": [
    {
     "name": "stdout",
     "output_type": "stream",
     "text": [
      "Actual price:  [63] Predicted price:  233.3815391958952\n",
      "Actual price:  [666] Predicted price:  522.2409505467895\n",
      "Actual price:  [447] Predicted price:  655.8814423308693\n",
      "Actual price:  [778] Predicted price:  802.177894890195\n",
      "Actual price:  [645] Predicted price:  819.9152527436074\n",
      "Actual price:  [1047] Predicted price:  1079.4905279991572\n",
      "Actual price:  [614] Predicted price:  719.4149784288752\n",
      "Actual price:  [172] Predicted price:  191.93561491021663\n",
      "Actual price:  [1301] Predicted price:  1339.9910659133895\n",
      "Actual price:  [261] Predicted price:  373.2223895720989\n",
      "Actual price:  [894] Predicted price:  859.8783987656425\n",
      "Actual price:  [229] Predicted price:  375.88953392451265\n",
      "Actual price:  [463] Predicted price:  554.5093344274773\n",
      "Actual price:  [32] Predicted price:  292.1559767888808\n",
      "Actual price:  [1263] Predicted price:  1263.827868754286\n",
      "Actual price:  [1158] Predicted price:  382.39464778123\n",
      "Actual price:  [1304] Predicted price:  1451.198953389367\n",
      "Actual price:  [1159] Predicted price:  1245.902705080688\n",
      "Actual price:  [429] Predicted price:  465.6976292135391\n",
      "Actual price:  [149] Predicted price:  434.8512730923543\n",
      "Actual price:  [441] Predicted price:  477.0145657174176\n",
      "Actual price:  [214] Predicted price:  429.4469726440707\n",
      "Actual price:  [667] Predicted price:  726.8221882271894\n",
      "Actual price:  [1143] Predicted price:  762.63103026279\n",
      "Actual price:  [423] Predicted price:  646.6857924320673\n",
      "Actual price:  [1267] Predicted price:  1177.483179019954\n",
      "Actual price:  [1241] Predicted price:  1181.4219041261545\n",
      "Actual price:  [939] Predicted price:  761.0891386992431\n",
      "Actual price:  [685] Predicted price:  681.346719499945\n",
      "Actual price:  [400] Predicted price:  537.1867777548557\n",
      "Actual price:  [696] Predicted price:  807.1824323014652\n",
      "Actual price:  [948] Predicted price:  801.1829850289461\n",
      "Actual price:  [83] Predicted price:  199.4885790318623\n",
      "Actual price:  [599] Predicted price:  660.4246045756057\n",
      "Actual price:  [540] Predicted price:  591.1863650601151\n",
      "Actual price:  [197] Predicted price:  305.5231563355038\n",
      "Actual price:  [596] Predicted price:  709.1928526307026\n",
      "Actual price:  [719] Predicted price:  736.7099941748737\n",
      "Actual price:  [689] Predicted price:  709.2851231049223\n",
      "Actual price:  [983] Predicted price:  868.4338734553994\n",
      "Actual price:  [90] Predicted price:  424.6289771006856\n",
      "Actual price:  [247] Predicted price:  308.4482884450556\n",
      "Actual price:  [171] Predicted price:  94.09779226551345\n",
      "Actual price:  [233] Predicted price:  358.4581952879945\n",
      "Actual price:  [119] Predicted price:  178.1286444889976\n",
      "Actual price:  [747] Predicted price:  901.8295571124421\n",
      "Actual price:  [990] Predicted price:  653.8600502350911\n",
      "Actual price:  [1315] Predicted price:  1462.196453864925\n",
      "Actual price:  [293] Predicted price:  444.771528910585\n",
      "Actual price:  [1328] Predicted price:  1510.422279237927\n",
      "Actual price:  [966] Predicted price:  1001.5339662166563\n",
      "Actual price:  [1335] Predicted price:  1171.8803773663717\n",
      "Actual price:  [288] Predicted price:  220.98266535230493\n",
      "Actual price:  [297] Predicted price:  494.763162401375\n",
      "Actual price:  [1213] Predicted price:  845.5540268070071\n",
      "Actual price:  [868] Predicted price:  461.9706291907413\n",
      "Actual price:  [317] Predicted price:  195.87872138679438\n",
      "Actual price:  [301] Predicted price:  474.3918078331375\n",
      "Actual price:  [5] Predicted price:  331.33774543080284\n",
      "Actual price:  [829] Predicted price:  676.8001285251247\n",
      "Actual price:  [750] Predicted price:  692.8839116945559\n",
      "Actual price:  [236] Predicted price:  451.5141172514814\n",
      "Actual price:  [637] Predicted price:  649.2365768535483\n",
      "Actual price:  [1011] Predicted price:  1018.5268093817522\n",
      "Actual price:  [0] Predicted price:  181.3906476818556\n",
      "Actual price:  [688] Predicted price:  456.85752607711316\n",
      "Actual price:  [1287] Predicted price:  1230.786779219326\n",
      "Actual price:  [483] Predicted price:  507.76772146391556\n",
      "Actual price:  [1291] Predicted price:  965.4281945959099\n",
      "Actual price:  [881] Predicted price:  660.1887672956639\n",
      "Actual price:  [356] Predicted price:  528.9039191827632\n",
      "Actual price:  [1312] Predicted price:  1459.7299818307513\n",
      "Actual price:  [716] Predicted price:  534.9344112550165\n",
      "Actual price:  [326] Predicted price:  625.2278009737935\n",
      "Actual price:  [817] Predicted price:  594.5665583214653\n",
      "Actual price:  [220] Predicted price:  217.9723131620235\n",
      "Actual price:  [835] Predicted price:  671.4329706297722\n",
      "Actual price:  [243] Predicted price:  642.3984304268596\n",
      "Actual price:  [1103] Predicted price:  1116.4266464828966\n",
      "Actual price:  [45] Predicted price:  471.54879425812516\n",
      "Actual price:  [656] Predicted price:  676.4904484447217\n",
      "Actual price:  [887] Predicted price:  729.441301119847\n",
      "Actual price:  [972] Predicted price:  713.1424893835543\n",
      "Actual price:  [544] Predicted price:  540.2313872134166\n",
      "Actual price:  [505] Predicted price:  388.4883891872406\n",
      "Actual price:  [515] Predicted price:  743.6392945771513\n",
      "Actual price:  [1004] Predicted price:  294.0321648746997\n",
      "Actual price:  [1137] Predicted price:  1334.1161460523142\n",
      "Actual price:  [1025] Predicted price:  447.8054429840334\n",
      "Actual price:  [192] Predicted price:  162.41578027755344\n",
      "Actual price:  [761] Predicted price:  748.0328873134375\n",
      "Actual price:  [561] Predicted price:  614.7830845136094\n",
      "Actual price:  [556] Predicted price:  583.0730389560596\n",
      "Actual price:  [1196] Predicted price:  811.3860631508295\n",
      "Actual price:  [1029] Predicted price:  1047.7243068295566\n",
      "Actual price:  [1232] Predicted price:  1111.9684880573511\n",
      "Actual price:  [1318] Predicted price:  1461.4163404371125\n",
      "Actual price:  [230] Predicted price:  453.4345216119377\n",
      "Actual price:  [11] Predicted price:  200.248395448254\n",
      "Actual price:  [565] Predicted price:  581.1897771485343\n",
      "Actual price:  [503] Predicted price:  477.3834768880191\n",
      "Actual price:  [787] Predicted price:  218.00240532146444\n",
      "Actual price:  [1252] Predicted price:  1107.4829816385047\n",
      "Actual price:  [13] Predicted price:  283.1978537774589\n",
      "Actual price:  [770] Predicted price:  888.545976314198\n",
      "Actual price:  [177] Predicted price:  210.43405313232142\n",
      "Actual price:  [1018] Predicted price:  983.8071554690057\n",
      "Actual price:  [1075] Predicted price:  1035.7886155502333\n",
      "Actual price:  [385] Predicted price:  513.1491736679607\n",
      "Actual price:  [348] Predicted price:  428.9950289103489\n",
      "Actual price:  [411] Predicted price:  684.966178771321\n",
      "Actual price:  [849] Predicted price:  647.8029238084654\n",
      "Actual price:  [938] Predicted price:  696.9176760240495\n",
      "Actual price:  [393] Predicted price:  527.4499691262597\n",
      "Actual price:  [1061] Predicted price:  958.6497276543832\n",
      "Actual price:  [1066] Predicted price:  711.1368963932414\n",
      "Actual price:  [1220] Predicted price:  1079.6788772647756\n",
      "Actual price:  [703] Predicted price:  746.5151312746463\n",
      "Actual price:  [700] Predicted price:  604.2368300047312\n",
      "Actual price:  [146] Predicted price:  293.4118120951204\n",
      "Actual price:  [1238] Predicted price:  1207.321185728637\n",
      "Actual price:  [931] Predicted price:  576.3324742744351\n",
      "Actual price:  [1044] Predicted price:  1044.86461790653\n",
      "Actual price:  [148] Predicted price:  421.5580906678023\n",
      "Actual price:  [718] Predicted price:  700.3556347789281\n",
      "Actual price:  [902] Predicted price:  619.9245110006578\n",
      "Actual price:  [825] Predicted price:  801.3523012354444\n",
      "Actual price:  [805] Predicted price:  710.4363648843201\n",
      "Actual price:  [183] Predicted price:  297.0336290776017\n",
      "Actual price:  [222] Predicted price:  340.13581981020064\n",
      "Actual price:  [117] Predicted price:  140.37600640326977\n",
      "Actual price:  [1324] Predicted price:  1484.069960142918\n",
      "Actual price:  [359] Predicted price:  439.9176547665696\n",
      "Actual price:  [1099] Predicted price:  652.7853726824683\n",
      "Actual price:  [1015] Predicted price:  894.5289959511144\n",
      "Actual price:  [1120] Predicted price:  264.3045614622638\n",
      "Actual price:  [942] Predicted price:  860.237708309936\n",
      "Actual price:  [1093] Predicted price:  993.807908489425\n",
      "Actual price:  [193] Predicted price:  326.2322202842109\n",
      "Actual price:  [519] Predicted price:  534.3323318275859\n",
      "Actual price:  [1250] Predicted price:  1073.8574179245957\n",
      "Actual price:  [1215] Predicted price:  1056.9520201438704\n",
      "Actual price:  [127] Predicted price:  179.30197480566298\n",
      "Actual price:  [225] Predicted price:  532.1147734977886\n",
      "Actual price:  [100] Predicted price:  83.72847799821245\n",
      "Actual price:  [934] Predicted price:  650.5380940310953\n",
      "Actual price:  [1276] Predicted price:  1136.1331474602916\n",
      "Actual price:  [160] Predicted price:  207.55642490897964\n",
      "Actual price:  [611] Predicted price:  554.5795163644297\n",
      "Actual price:  [275] Predicted price:  277.26418374329853\n",
      "Actual price:  [294] Predicted price:  393.6849208557515\n",
      "Actual price:  [361] Predicted price:  472.9719448514176\n",
      "Actual price:  [203] Predicted price:  212.30516208072095\n",
      "Actual price:  [7] Predicted price:  402.0574759294198\n",
      "Actual price:  [131] Predicted price:  443.49632649339196\n",
      "Actual price:  [612] Predicted price:  597.2647183986285\n",
      "Actual price:  [1086] Predicted price:  137.18564262137727\n",
      "Actual price:  [497] Predicted price:  527.2130380875133\n",
      "Actual price:  [944] Predicted price:  795.113899264907\n",
      "Actual price:  [64] Predicted price:  246.14299432346513\n",
      "Actual price:  [694] Predicted price:  573.3561932870507\n",
      "Actual price:  [98] Predicted price:  282.0198307784088\n",
      "Actual price:  [22] Predicted price:  381.97131599310984\n",
      "Actual price:  [1107] Predicted price:  574.9105876334434\n",
      "Actual price:  [524] Predicted price:  658.8473619849746\n",
      "Actual price:  [1255] Predicted price:  1168.5337277343729\n",
      "Actual price:  [384] Predicted price:  261.3040271598289\n",
      "Actual price:  [82] Predicted price:  266.2054285182706\n",
      "Actual price:  [654] Predicted price:  555.3681376597452\n",
      "Actual price:  [73] Predicted price:  469.4314866965048\n",
      "Actual price:  [1186] Predicted price:  735.4960779580239\n",
      "Actual price:  [153] Predicted price:  386.1513535084341\n",
      "Actual price:  [309] Predicted price:  617.0045991470367\n",
      "Actual price:  [839] Predicted price:  643.5763123073982\n",
      "Actual price:  [508] Predicted price:  560.2396170522421\n",
      "Actual price:  [365] Predicted price:  683.5899886188063\n",
      "Actual price:  [1182] Predicted price:  603.2824914264974\n",
      "Actual price:  [771] Predicted price:  688.8175650870513\n",
      "Actual price:  [1176] Predicted price:  785.267974620581\n",
      "Actual price:  [399] Predicted price:  466.37620459265736\n",
      "Actual price:  [484] Predicted price:  526.9099041552705\n",
      "Actual price:  [79] Predicted price:  260.8845105568273\n",
      "Actual price:  [707] Predicted price:  612.4195783387681\n",
      "Actual price:  [25] Predicted price:  156.5655160584498\n",
      "Actual price:  [1249] Predicted price:  1169.482784116747\n",
      "Actual price:  [31] Predicted price:  153.75042986509527\n",
      "Actual price:  [851] Predicted price:  693.8059705957395\n",
      "Actual price:  [489] Predicted price:  600.5355635108234\n",
      "Actual price:  [56] Predicted price:  310.22891844508223\n",
      "Actual price:  [1154] Predicted price:  562.918550548573\n",
      "Actual price:  [163] Predicted price:  352.186249688106\n",
      "Actual price:  [93] Predicted price:  305.56863656244207\n",
      "Actual price:  [364] Predicted price:  360.1491287864454\n",
      "Actual price:  [306] Predicted price:  551.1112018658121\n",
      "Actual price:  [394] Predicted price:  564.42358754298\n",
      "Actual price:  [107] Predicted price:  210.63674277467481\n",
      "Actual price:  [68] Predicted price:  285.9855692376864\n",
      "Actual price:  [1023] Predicted price:  987.4409551171166\n",
      "Actual price:  [307] Predicted price:  421.1782905903757\n",
      "Actual price:  [647] Predicted price:  805.6552448298619\n",
      "Actual price:  [1195] Predicted price:  922.2772360248002\n",
      "Actual price:  [152] Predicted price:  399.6473957688357\n",
      "Actual price:  [908] Predicted price:  271.1162379813079\n",
      "Actual price:  [634] Predicted price:  668.1351121645001\n",
      "Actual price:  [308] Predicted price:  504.1277489195806\n",
      "Actual price:  [1034] Predicted price:  901.4276607485185\n",
      "Actual price:  [509] Predicted price:  695.3487396565525\n",
      "Actual price:  [673] Predicted price:  511.8132434864535\n",
      "Actual price:  [1053] Predicted price:  686.1940474958002\n",
      "Actual price:  [823] Predicted price:  763.5761012665496\n",
      "Actual price:  [1190] Predicted price:  829.4457581891004\n",
      "Actual price:  [81] Predicted price:  365.6347880622975\n",
      "Actual price:  [94] Predicted price:  355.55100247875777\n",
      "Actual price:  [46] Predicted price:  68.95849727291865\n",
      "Actual price:  [690] Predicted price:  527.5310166418209\n",
      "Actual price:  [17] Predicted price:  377.31358534328746\n",
      "Actual price:  [319] Predicted price:  411.09450500683596\n",
      "Actual price:  [999] Predicted price:  863.9184683988245\n",
      "Actual price:  [670] Predicted price:  594.1343454139055\n",
      "Actual price:  [382] Predicted price:  511.5075816496092\n",
      "Actual price:  [1052] Predicted price:  1008.7503069674074\n",
      "Actual price:  [1022] Predicted price:  567.0708308757356\n",
      "Actual price:  [248] Predicted price:  319.08283438469726\n",
      "Actual price:  [257] Predicted price:  460.98279305119877\n",
      "Actual price:  [739] Predicted price:  595.5645697289042\n",
      "Actual price:  [467] Predicted price:  557.0713418076169\n",
      "Actual price:  [510] Predicted price:  572.6203422019183\n",
      "Actual price:  [418] Predicted price:  561.9089138555544\n",
      "Actual price:  [1162] Predicted price:  1041.4675476527964\n",
      "Actual price:  [723] Predicted price:  771.1620587041741\n",
      "Actual price:  [218] Predicted price:  414.0051265461566\n",
      "Actual price:  [271] Predicted price:  580.0585216569397\n",
      "Actual price:  [471] Predicted price:  627.7597161944922\n",
      "Actual price:  [577] Predicted price:  668.0062033826791\n",
      "Actual price:  [295] Predicted price:  341.9567097812348\n",
      "Actual price:  [369] Predicted price:  485.01784590527586\n",
      "Actual price:  [451] Predicted price:  643.0233580985285\n",
      "Actual price:  [1138] Predicted price:  710.9303601148964\n",
      "Actual price:  [262] Predicted price:  336.42333035763403\n",
      "Actual price:  [683] Predicted price:  608.6784542007738\n",
      "Actual price:  [397] Predicted price:  329.85606092596396\n",
      "Actual price:  [78] Predicted price:  306.6224895300982\n",
      "Actual price:  [1037] Predicted price:  731.8038773942211\n",
      "Actual price:  [941] Predicted price:  854.3887080431331\n",
      "Actual price:  [95] Predicted price:  222.99445582177515\n",
      "Actual price:  [518] Predicted price:  457.7636010621661\n",
      "Actual price:  [1008] Predicted price:  774.1880006063221\n",
      "Actual price:  [43] Predicted price:  277.6153491352974\n",
      "Actual price:  [757] Predicted price:  611.2283087217876\n",
      "Actual price:  [640] Predicted price:  580.5933663719982\n",
      "Actual price:  [343] Predicted price:  540.3203700760638\n",
      "Actual price:  [1208] Predicted price:  982.4086605176848\n",
      "Actual price:  [481] Predicted price:  395.294613316929\n",
      "Actual price:  [126] Predicted price:  277.37765838957984\n",
      "Actual price:  [526] Predicted price:  488.5071551823561\n",
      "Actual price:  [206] Predicted price:  249.2008503999566\n",
      "Actual price:  [1201] Predicted price:  990.5364971919715\n",
      "Actual price:  [245] Predicted price:  127.83556667340295\n",
      "Actual price:  [1265] Predicted price:  1129.9233801751818\n",
      "Actual price:  [422] Predicted price:  565.0431020253959\n",
      "Actual price:  [36] Predicted price:  189.9078860598769\n",
      "Actual price:  [810] Predicted price:  568.7401800822489\n",
      "Actual price:  [1094] Predicted price:  919.49603526186\n",
      "Actual price:  [1289] Predicted price:  1258.3873032503375\n",
      "Actual price:  [345] Predicted price:  464.8711056583215\n",
      "Actual price:  [1110] Predicted price:  299.61848470197975\n",
      "Actual price:  [336] Predicted price:  565.1018288702646\n",
      "Actual price:  [458] Predicted price:  337.22646222318076\n",
      "Actual price:  [1264] Predicted price:  927.7389760374355\n",
      "Actual price:  [788] Predicted price:  600.0212479406105\n",
      "Actual price:  [830] Predicted price:  668.1922176770181\n",
      "Actual price:  [189] Predicted price:  272.1617532749569\n",
      "Actual price:  [145] Predicted price:  393.4231179134948\n",
      "Actual price:  [1087] Predicted price:  976.9300516353228\n",
      "Actual price:  [969] Predicted price:  610.6199152796218\n",
      "Actual price:  [426] Predicted price:  663.4126519670812\n",
      "Actual price:  [224] Predicted price:  511.73671845978106\n",
      "Actual price:  [370] Predicted price:  357.1873583692922\n",
      "Actual price:  [355] Predicted price:  418.1576231348578\n",
      "Actual price:  [324] Predicted price:  377.80524560258425\n",
      "Actual price:  [836] Predicted price:  774.307276310962\n",
      "Actual price:  [1100] Predicted price:  1188.7631431643974\n",
      "Actual price:  [1202] Predicted price:  937.0923629251986\n",
      "Actual price:  [775] Predicted price:  676.5432345267913\n",
      "Actual price:  [950] Predicted price:  713.380700246488\n",
      "Actual price:  [379] Predicted price:  352.0415891235792\n",
      "Actual price:  [15] Predicted price:  324.6725829420613\n",
      "Actual price:  [1302] Predicted price:  1221.240173322124\n",
      "Actual price:  [980] Predicted price:  806.0747614328635\n",
      "Actual price:  [951] Predicted price:  886.3369485917301\n",
      "Actual price:  [328] Predicted price:  673.2302759778132\n",
      "Actual price:  [679] Predicted price:  793.059841037044\n",
      "Actual price:  [570] Predicted price:  624.9420787683198\n",
      "Actual price:  [1130] Predicted price:  1196.396224901137\n",
      "Actual price:  [41] Predicted price:  258.5007073705655\n",
      "Actual price:  [1024] Predicted price:  762.0645035068128\n",
      "Actual price:  [754] Predicted price:  702.1977749900661\n",
      "Actual price:  [1274] Predicted price:  1327.1317177287478\n",
      "Actual price:  [1149] Predicted price:  629.3249761194937\n",
      "Actual price:  [1245] Predicted price:  1090.4845536765888\n",
      "Actual price:  [238] Predicted price:  518.1524471269302\n",
      "Actual price:  [1209] Predicted price:  931.6249770014954\n",
      "Actual price:  [535] Predicted price:  668.725566306351\n",
      "Actual price:  [581] Predicted price:  675.7888546278689\n",
      "Actual price:  [1277] Predicted price:  1331.6224671433513\n",
      "Actual price:  [101] Predicted price:  188.4787555036827\n",
      "Actual price:  [342] Predicted price:  304.2894619697326\n",
      "Actual price:  [280] Predicted price:  316.14936460113825\n",
      "Actual price:  [672] Predicted price:  716.9633510167665\n",
      "Actual price:  [687] Predicted price:  762.1692686412216\n",
      "Actual price:  [439] Predicted price:  548.3312965060456\n",
      "Actual price:  [927] Predicted price:  869.9462163049378\n",
      "Actual price:  [901] Predicted price:  947.9440776265519\n",
      "Actual price:  [686] Predicted price:  815.2395827934698\n",
      "Actual price:  [772] Predicted price:  667.4113906102773\n",
      "Actual price:  [255] Predicted price:  588.1310602164416\n",
      "Actual price:  [1105] Predicted price:  1133.6786808315737\n",
      "Actual price:  [188] Predicted price:  560.1048694260306\n",
      "Actual price:  [239] Predicted price:  196.85388454999497\n",
      "Actual price:  [10] Predicted price:  196.52630436937943\n",
      "Actual price:  [1032] Predicted price:  994.7963182705561\n",
      "Actual price:  [827] Predicted price:  569.8226677353329\n",
      "Actual price:  [548] Predicted price:  544.888947669743\n",
      "Actual price:  [842] Predicted price:  816.5383470938298\n",
      "Actual price:  [727] Predicted price:  772.2296625350906\n",
      "Actual price:  [242] Predicted price:  512.6161824186779\n",
      "Actual price:  [1278] Predicted price:  1308.9514515826631\n",
      "Actual price:  [702] Predicted price:  663.2585599697424\n",
      "Actual price:  [3] Predicted price:  321.2349267881433\n",
      "Actual price:  [2] Predicted price:  316.98110841228663\n",
      "Actual price:  [340] Predicted price:  405.10808809070875\n",
      "Actual price:  [86] Predicted price:  371.3092291268451\n",
      "Actual price:  [42] Predicted price:  322.8397103053975\n",
      "Actual price:  [1270] Predicted price:  1242.641989168347\n",
      "Actual price:  [1218] Predicted price:  940.2375805319865\n",
      "Actual price:  [274] Predicted price:  539.4594412661155\n",
      "Actual price:  [1147] Predicted price:  624.4926862674158\n",
      "Actual price:  [869] Predicted price:  680.431547133914\n",
      "Actual price:  [977] Predicted price:  829.0224176899334\n",
      "Actual price:  [695] Predicted price:  723.5022020245473\n",
      "Actual price:  [545] Predicted price:  470.1400131165526\n",
      "Actual price:  [940] Predicted price:  828.7187795123608\n",
      "Actual price:  [578] Predicted price:  701.7985553984851\n",
      "Actual price:  [502] Predicted price:  490.0111603578873\n",
      "Actual price:  [843] Predicted price:  840.713367830049\n",
      "Actual price:  [995] Predicted price:  846.0295784919383\n",
      "Actual price:  [522] Predicted price:  565.7582765120128\n",
      "Actual price:  [794] Predicted price:  750.4438973744889\n",
      "Actual price:  [560] Predicted price:  801.7074456708993\n",
      "Actual price:  [832] Predicted price:  685.7392184774268\n",
      "Actual price:  [1063] Predicted price:  903.1669756304456\n",
      "Actual price:  [210] Predicted price:  352.8003117811662\n",
      "Actual price:  [572] Predicted price:  702.6687517829077\n",
      "Actual price:  [921] Predicted price:  600.1131843629964\n",
      "Actual price:  [1228] Predicted price:  1002.0687804426589\n",
      "Actual price:  [669] Predicted price:  877.1539949974864\n",
      "Actual price:  [454] Predicted price:  610.2906454915681\n",
      "Actual price:  [604] Predicted price:  587.0652706511981\n",
      "Actual price:  [911] Predicted price:  800.0236149691397\n",
      "Actual price:  [320] Predicted price:  301.24230127835375\n",
      "Actual price:  [421] Predicted price:  505.636663039035\n",
      "Actual price:  [74] Predicted price:  333.3404845873373\n",
      "Actual price:  [608] Predicted price:  701.9183667993279\n",
      "Actual price:  [789] Predicted price:  817.0142328305946\n",
      "Actual price:  [636] Predicted price:  671.6467193724466\n",
      "Actual price:  [1007] Predicted price:  778.8036797592902\n",
      "Actual price:  [151] Predicted price:  100.86322885064826\n",
      "Actual price:  [1142] Predicted price:  1155.3812495707175\n",
      "Actual price:  [766] Predicted price:  744.9391526363158\n",
      "Actual price:  [496] Predicted price:  373.3563774913393\n",
      "Actual price:  [1296] Predicted price:  1068.3240385009951\n",
      "Actual price:  [642] Predicted price:  638.7300161304191\n",
      "Actual price:  [1297] Predicted price:  1144.4758266360573\n",
      "Actual price:  [525] Predicted price:  695.0048181797562\n",
      "Actual price:  [644] Predicted price:  762.3416863939102\n",
      "Actual price:  [915] Predicted price:  785.6896560013657\n",
      "Actual price:  [1076] Predicted price:  993.847602275174\n",
      "Actual price:  [75] Predicted price:  256.64012361378246\n",
      "Actual price:  [431] Predicted price:  695.6547588734467\n",
      "Actual price:  [1200] Predicted price:  935.4971810342524\n",
      "Actual price:  [1275] Predicted price:  1114.2447732320172\n",
      "Actual price:  [312] Predicted price:  559.1278988650969\n",
      "Actual price:  [14] Predicted price:  299.6813999839034\n",
      "Actual price:  [1322] Predicted price:  1352.6845266216164\n",
      "Actual price:  [452] Predicted price:  758.9399088406225\n",
      "Actual price:  [291] Predicted price:  354.90961572061303\n",
      "Actual price:  [1282] Predicted price:  1393.628815769754\n",
      "Actual price:  [982] Predicted price:  1104.4682626950157\n",
      "Actual price:  [265] Predicted price:  468.295345000813\n",
      "Actual price:  [744] Predicted price:  811.0512076041383\n",
      "Actual price:  [1124] Predicted price:  1182.7634796303396\n",
      "Actual price:  [584] Predicted price:  560.7129515561892\n",
      "Actual price:  [29] Predicted price:  134.07651987675823\n",
      "Actual price:  [833] Predicted price:  783.6773152185233\n",
      "Actual price:  [609] Predicted price:  425.6505731311177\n",
      "Actual price:  [1082] Predicted price:  1154.2974979653327\n",
      "Actual price:  [476] Predicted price:  396.73334549943104\n",
      "Actual price:  [59] Predicted price:  119.06017034474746\n",
      "Actual price:  [1212] Predicted price:  1033.5097791427495\n",
      "Actual price:  [743] Predicted price:  798.4965913558739\n",
      "Actual price:  [1185] Predicted price:  1183.0232589133248\n",
      "Actual price:  [1299] Predicted price:  1319.4005494132246\n"
     ]
    }
   ],
   "source": [
    "PrintOutput(Y_Test,Predictions)"
   ]
  },
  {
   "cell_type": "code",
   "execution_count": 44,
   "id": "39b164f6",
   "metadata": {},
   "outputs": [
    {
     "name": "stdout",
     "output_type": "stream",
     "text": [
      "Cost:  50602486.62320033\n"
     ]
    }
   ],
   "source": [
    "print(\"Cost: \" , np.sum( np.square(Predictions - np.array(Y_Test)  ) ) / (2* Y_Test.shape[0]))"
   ]
  },
  {
   "cell_type": "code",
   "execution_count": 45,
   "id": "ede3a59e",
   "metadata": {},
   "outputs": [],
   "source": [
    "def cust():\n",
    "    age = input(\"Enter Age :\")\n",
    "    sex = input(\"Enter sex(0-male,1-female):\")\n",
    "    bmi = input(\"Enter bmi:\")\n",
    "    children = input(\"Enter number of children\")\n",
    "    smoker = input(\"Enter 0-if not smoker , 1-if smoker\")\n",
    "    region = input(\"Enter 0-northeast,1-southeast,2-northwest,3-southwest\")\n",
    "    bias = 1\n",
    "    \n",
    "    data = {'age':age, 'sex':sex, 'bmi':bmi, 'children':children, 'smoker':smoker, 'region':region, 'bias':bias}\n",
    "    index = [0]\n",
    "    cust_df = pd.DataFrame(data, index)\n",
    "    return cust_df.astype(float)"
   ]
  },
  {
   "cell_type": "code",
   "execution_count": null,
   "id": "0e9ffe46",
   "metadata": {},
   "outputs": [],
   "source": [
    "cust_df = cust()\n",
    "pre = predict(Thetas,cust_df)\n",
    "# nums = pre[0][0]\n",
    "# nums = round(nums,2)\n",
    "pre[0][0] = round(pre[0][0],2)\n",
    "\n"
   ]
  },
  {
   "cell_type": "code",
   "execution_count": null,
   "id": "63013052",
   "metadata": {},
   "outputs": [],
   "source": [
    "print(\"Approximate Medical Insurance Cost will be $\",pre[0][0])"
   ]
  },
  {
   "cell_type": "markdown",
   "id": "1d9e9492",
   "metadata": {},
   "source": [
    "# Sklearn Library"
   ]
  },
  {
   "cell_type": "code",
   "execution_count": null,
   "id": "b1eda4c2",
   "metadata": {},
   "outputs": [],
   "source": []
  },
  {
   "cell_type": "code",
   "execution_count": null,
   "id": "f6a6a2c1",
   "metadata": {},
   "outputs": [],
   "source": [
    "classifier = LinearRegression()"
   ]
  },
  {
   "cell_type": "code",
   "execution_count": null,
   "id": "8490dd96",
   "metadata": {},
   "outputs": [],
   "source": [
    "classifier.fit(X_Train,Y_Train)"
   ]
  },
  {
   "cell_type": "code",
   "execution_count": null,
   "id": "c99765e4",
   "metadata": {},
   "outputs": [],
   "source": [
    "StdPrediction =  classifier.predict(X_Test)"
   ]
  },
  {
   "cell_type": "code",
   "execution_count": null,
   "id": "5e6ae4d1",
   "metadata": {},
   "outputs": [],
   "source": [
    "StdPrediction = StdPrediction.ravel()"
   ]
  },
  {
   "cell_type": "code",
   "execution_count": null,
   "id": "8f8f9e7f",
   "metadata": {},
   "outputs": [],
   "source": [
    "def cust():\n",
    "    age = input(\"Enter Age :\")\n",
    "    sex = input(\"Enter sex(0-male,1-female)\")\n",
    "    bmi = input(\"Enter bmi\")\n",
    "    children = input(\"Enter number of children\")\n",
    "    smoker = input(\"Enter 0-if not smoker , 1-if smoker\")\n",
    "    region = input(\"Enter 0-northeast,1-southeast,2-northwest,3-southwest\")\n",
    "    bias = 1\n",
    "    \n",
    "    data = {'age':age, 'sex':sex, 'bmi':bmi, 'children':children, 'smoker':smoker, 'region':region, 'bias':bias}\n",
    "    index = [0]\n",
    "    cust_df = pd.DataFrame(data, index)\n",
    "    return cust_df\n",
    "    \n",
    "#     predicts = predict(Thetas,cust_df)\n",
    "#     return predicts"
   ]
  },
  {
   "cell_type": "code",
   "execution_count": null,
   "id": "c2a7206d",
   "metadata": {},
   "outputs": [],
   "source": [
    "cust = cust()"
   ]
  },
  {
   "cell_type": "code",
   "execution_count": null,
   "id": "03f2c972",
   "metadata": {},
   "outputs": [],
   "source": [
    "preds = classifier.predict(cust)"
   ]
  },
  {
   "cell_type": "code",
   "execution_count": null,
   "id": "4d41b8f7",
   "metadata": {},
   "outputs": [],
   "source": [
    "print(preds)"
   ]
  },
  {
   "cell_type": "code",
   "execution_count": null,
   "id": "bc3b2765",
   "metadata": {},
   "outputs": [],
   "source": []
  },
  {
   "cell_type": "markdown",
   "id": "98ca834a",
   "metadata": {},
   "source": [
    "# Model Evaluation"
   ]
  },
  {
   "cell_type": "code",
   "execution_count": null,
   "id": "7509fd43",
   "metadata": {},
   "outputs": [],
   "source": []
  },
  {
   "cell_type": "markdown",
   "id": "a5aac093",
   "metadata": {},
   "source": [
    "# R2 Score"
   ]
  },
  {
   "cell_type": "code",
   "execution_count": null,
   "id": "344c7132",
   "metadata": {},
   "outputs": [],
   "source": []
  },
  {
   "cell_type": "markdown",
   "id": "eda6b138",
   "metadata": {},
   "source": [
    "## Our code"
   ]
  },
  {
   "cell_type": "code",
   "execution_count": null,
   "id": "5c13e253",
   "metadata": {},
   "outputs": [],
   "source": [
    "test_Score=r2_30\n",
    "score(Y_Test,Predictions)"
   ]
  },
  {
   "cell_type": "code",
   "execution_count": null,
   "id": "69d64ffd",
   "metadata": {},
   "outputs": [],
   "source": [
    "test_Score   "
   ]
  },
  {
   "cell_type": "markdown",
   "id": "11c3e3c9",
   "metadata": {},
   "source": [
    "# "
   ]
  },
  {
   "cell_type": "markdown",
   "id": "4b0a0953",
   "metadata": {},
   "source": [
    "## Standard Library"
   ]
  },
  {
   "cell_type": "code",
   "execution_count": null,
   "id": "ae3b2342",
   "metadata": {},
   "outputs": [],
   "source": [
    "test_Score=r2_score(Y_Test,StdPrediction)"
   ]
  },
  {
   "cell_type": "code",
   "execution_count": null,
   "id": "4099ee7e",
   "metadata": {},
   "outputs": [],
   "source": [
    "test_Score   "
   ]
  },
  {
   "cell_type": "code",
   "execution_count": null,
   "id": "c8218308",
   "metadata": {},
   "outputs": [],
   "source": []
  },
  {
   "cell_type": "markdown",
   "id": "78392189",
   "metadata": {},
   "source": [
    "## Mean squared error "
   ]
  },
  {
   "cell_type": "code",
   "execution_count": null,
   "id": "77760ae5",
   "metadata": {},
   "outputs": [],
   "source": []
  },
  {
   "cell_type": "markdown",
   "id": "ce07257c",
   "metadata": {},
   "source": [
    "## Our code "
   ]
  },
  {
   "cell_type": "code",
   "execution_count": null,
   "id": "517f4e9f",
   "metadata": {},
   "outputs": [],
   "source": [
    "MSE_test=mean_squared_error(Y_Test,Predictions)"
   ]
  },
  {
   "cell_type": "code",
   "execution_count": null,
   "id": "012f6df6",
   "metadata": {},
   "outputs": [],
   "source": [
    "MSE_test"
   ]
  },
  {
   "cell_type": "code",
   "execution_count": null,
   "id": "71e585e3",
   "metadata": {},
   "outputs": [],
   "source": []
  },
  {
   "cell_type": "markdown",
   "id": "7f1de334",
   "metadata": {},
   "source": [
    "## Standard Library"
   ]
  },
  {
   "cell_type": "code",
   "execution_count": null,
   "id": "b89ad7df",
   "metadata": {},
   "outputs": [],
   "source": [
    "MSE_test=mean_squared_error(Y_Test,StdPrediction)"
   ]
  },
  {
   "cell_type": "code",
   "execution_count": null,
   "id": "be545ca1",
   "metadata": {},
   "outputs": [],
   "source": [
    "MSE_test"
   ]
  },
  {
   "cell_type": "code",
   "execution_count": null,
   "id": "a06d1376",
   "metadata": {},
   "outputs": [],
   "source": []
  },
  {
   "cell_type": "code",
   "execution_count": null,
   "id": "c17b3cfe",
   "metadata": {},
   "outputs": [],
   "source": []
  },
  {
   "cell_type": "code",
   "execution_count": null,
   "id": "d8844a58",
   "metadata": {},
   "outputs": [],
   "source": []
  },
  {
   "cell_type": "code",
   "execution_count": null,
   "id": "bad1b5fe",
   "metadata": {},
   "outputs": [],
   "source": []
  },
  {
   "cell_type": "code",
   "execution_count": null,
   "id": "6c4303d3",
   "metadata": {},
   "outputs": [],
   "source": []
  },
  {
   "cell_type": "code",
   "execution_count": null,
   "id": "e59c3787",
   "metadata": {},
   "outputs": [],
   "source": []
  },
  {
   "cell_type": "code",
   "execution_count": null,
   "id": "39049b7d",
   "metadata": {},
   "outputs": [],
   "source": []
  },
  {
   "cell_type": "code",
   "execution_count": null,
   "id": "25152bfd",
   "metadata": {},
   "outputs": [],
   "source": []
  },
  {
   "cell_type": "code",
   "execution_count": null,
   "id": "6bbbf305",
   "metadata": {},
   "outputs": [],
   "source": []
  },
  {
   "cell_type": "code",
   "execution_count": null,
   "id": "43ab65cf",
   "metadata": {},
   "outputs": [],
   "source": []
  },
  {
   "cell_type": "code",
   "execution_count": null,
   "id": "4f564219",
   "metadata": {},
   "outputs": [],
   "source": []
  },
  {
   "cell_type": "code",
   "execution_count": null,
   "id": "36b88f34",
   "metadata": {},
   "outputs": [],
   "source": []
  },
  {
   "cell_type": "code",
   "execution_count": null,
   "id": "6d20b75f",
   "metadata": {},
   "outputs": [],
   "source": []
  },
  {
   "cell_type": "code",
   "execution_count": null,
   "id": "2108f563",
   "metadata": {},
   "outputs": [],
   "source": []
  },
  {
   "cell_type": "code",
   "execution_count": null,
   "id": "292116f5",
   "metadata": {},
   "outputs": [],
   "source": []
  },
  {
   "cell_type": "code",
   "execution_count": null,
   "id": "ce960ce7",
   "metadata": {},
   "outputs": [],
   "source": []
  },
  {
   "cell_type": "code",
   "execution_count": null,
   "id": "eca421fb",
   "metadata": {},
   "outputs": [],
   "source": []
  },
  {
   "cell_type": "code",
   "execution_count": null,
   "id": "3910310a",
   "metadata": {},
   "outputs": [],
   "source": []
  },
  {
   "cell_type": "code",
   "execution_count": null,
   "id": "1f84e98f",
   "metadata": {},
   "outputs": [],
   "source": []
  },
  {
   "cell_type": "code",
   "execution_count": null,
   "id": "40305298",
   "metadata": {},
   "outputs": [],
   "source": []
  },
  {
   "cell_type": "code",
   "execution_count": null,
   "id": "aabc34a7",
   "metadata": {},
   "outputs": [],
   "source": []
  },
  {
   "cell_type": "code",
   "execution_count": null,
   "id": "70bd450e",
   "metadata": {},
   "outputs": [],
   "source": []
  },
  {
   "cell_type": "code",
   "execution_count": null,
   "id": "3e351eab",
   "metadata": {},
   "outputs": [],
   "source": []
  },
  {
   "cell_type": "code",
   "execution_count": null,
   "id": "84474081",
   "metadata": {},
   "outputs": [],
   "source": []
  },
  {
   "cell_type": "code",
   "execution_count": null,
   "id": "7eb7e71d",
   "metadata": {},
   "outputs": [],
   "source": []
  },
  {
   "cell_type": "code",
   "execution_count": null,
   "id": "31870bd0",
   "metadata": {},
   "outputs": [],
   "source": []
  }
 ],
 "metadata": {
  "kernelspec": {
   "display_name": "Python 3 (ipykernel)",
   "language": "python",
   "name": "python3"
  },
  "language_info": {
   "codemirror_mode": {
    "name": "ipython",
    "version": 3
   },
   "file_extension": ".py",
   "mimetype": "text/x-python",
   "name": "python",
   "nbconvert_exporter": "python",
   "pygments_lexer": "ipython3",
   "version": "3.10.6"
  }
 },
 "nbformat": 4,
 "nbformat_minor": 5
}
